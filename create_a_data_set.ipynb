{
 "cells": [
  {
   "cell_type": "code",
   "execution_count": 3,
   "metadata": {},
   "outputs": [],
   "source": [
    "%reload_ext autoreload\n",
    "%autoreload 2"
   ]
  },
  {
   "cell_type": "code",
   "execution_count": 212,
   "metadata": {},
   "outputs": [],
   "source": [
    "from skimage.io import imread,imsave,imshow\n",
    "import cv2 as cv\n",
    "import numpy as np\n",
    "import pandas as pd\n",
    "import imutils\n",
    "import matplotlib.pyplot as plt\n",
    "from pathlib import Path\n",
    "import warnings"
   ]
  },
  {
   "cell_type": "code",
   "execution_count": 230,
   "metadata": {},
   "outputs": [],
   "source": [
    "pth90 = Path('data/90')\n",
    "pth45 = Path('data/45')\n",
    "pth15 = Path('data/15')\n",
    "pth30 = Path('data/30')\n",
    "pth60 = Path('data/60')"
   ]
  },
  {
   "cell_type": "code",
   "execution_count": 228,
   "metadata": {},
   "outputs": [],
   "source": [
    "def gen_angle(theta):\n",
    "    img = np.zeros(shape=(50,50),dtype=np.uint8)\n",
    "    img[44,5:45] = 150\n",
    "    aff = cv.getRotationMatrix2D((5,44),theta,1)\n",
    "    imr = cv.warpAffine(img,aff,dsize=(50,50))\n",
    "    imf = (img+imr)\n",
    "    return imf"
   ]
  },
  {
   "cell_type": "code",
   "execution_count": 153,
   "metadata": {},
   "outputs": [],
   "source": [
    "im12 = gen_angle(10)\n",
    "im45 = gen_angle(15)"
   ]
  },
  {
   "cell_type": "code",
   "execution_count": 154,
   "metadata": {},
   "outputs": [
    {
     "data": {
      "text/plain": [
       "<matplotlib.image.AxesImage at 0x7fbc8264c470>"
      ]
     },
     "execution_count": 154,
     "metadata": {},
     "output_type": "execute_result"
    },
    {
     "data": {
      "image/png": "[encoded data removed]",
      "text/plain": [
       "<Figure size 432x288 with 1 Axes>"
      ]
     },
     "metadata": {
      "needs_background": "light"
     },
     "output_type": "display_data"
    }
   ],
   "source": [
    "#plt.imshow(im12,alpha=1)\n",
    "plt.imshow(im45,alpha=0.5)"
   ]
  },
  {
   "cell_type": "code",
   "execution_count": 140,
   "metadata": {},
   "outputs": [
    {
     "data": {
      "text/plain": [
       "70.7"
      ]
     },
     "execution_count": 140,
     "metadata": {},
     "output_type": "execute_result"
    }
   ],
   "source": [
    "1.414*50"
   ]
  },
  {
   "cell_type": "code",
   "execution_count": 210,
   "metadata": {},
   "outputs": [],
   "source": [
    "def gen_img_for_dataset(im,rot=0):\n",
    "    aff = cv.getRotationMatrix2D((25,25),rot,1)\n",
    "    aff_inv = cv.invertAffineTransform(aff)\n",
    "    imr = cv.warpAffine(im,aff_inv,dsize=(80,80),flags=cv.WARP_INVERSE_MAP)\n",
    "    return imr"
   ]
  },
  {
   "cell_type": "code",
   "execution_count": 191,
   "metadata": {},
   "outputs": [
    {
     "data": {
      "text/plain": [
       "<matplotlib.image.AxesImage at 0x7fbc800b5128>"
      ]
     },
     "execution_count": 191,
     "metadata": {},
     "output_type": "execute_result"
    },
    {
     "data": {
      "image/png": "[encoded data removed]",
      "text/plain": [
       "<Figure size 432x288 with 2 Axes>"
      ]
     },
     "metadata": {
      "needs_background": "light"
     },
     "output_type": "display_data"
    }
   ],
   "source": [
    "imr = gen_img_for_dataset(270)\n",
    "imshow(imr)"
   ]
  },
  {
   "cell_type": "code",
   "execution_count": 188,
   "metadata": {},
   "outputs": [],
   "source": [
    "df = pd.DataFrame(columns=['fl_nm','angle','rot'])"
   ]
  },
  {
   "cell_type": "code",
   "execution_count": 189,
   "metadata": {},
   "outputs": [
    {
     "data": {
      "text/html": [
       "<div>\n",
       "<style scoped>\n",
       "    .dataframe tbody tr th:only-of-type {\n",
       "        vertical-align: middle;\n",
       "    }\n",
       "\n",
       "    .dataframe tbody tr th {\n",
       "        vertical-align: top;\n",
       "    }\n",
       "\n",
       "    .dataframe thead th {\n",
       "        text-align: right;\n",
       "    }\n",
       "</style>\n",
       "<table border=\"1\" class=\"dataframe\">\n",
       "  <thead>\n",
       "    <tr style=\"text-align: right;\">\n",
       "      <th></th>\n",
       "      <th>fl_nm</th>\n",
       "      <th>angle</th>\n",
       "      <th>rot</th>\n",
       "    </tr>\n",
       "  </thead>\n",
       "  <tbody>\n",
       "  </tbody>\n",
       "</table>\n",
       "</div>"
      ],
      "text/plain": [
       "Empty DataFrame\n",
       "Columns: [fl_nm, angle, rot]\n",
       "Index: []"
      ]
     },
     "execution_count": 189,
     "metadata": {},
     "output_type": "execute_result"
    }
   ],
   "source": [
    "df"
   ]
  },
  {
   "cell_type": "code",
   "execution_count": 199,
   "metadata": {},
   "outputs": [],
   "source": [
    "angles = [90,45]\n",
    "rots = list(range(0,360,1))"
   ]
  },
  {
   "cell_type": "code",
   "execution_count": 213,
   "metadata": {},
   "outputs": [],
   "source": [
    "warnings.filterwarnings('ignore')"
   ]
  },
  {
   "cell_type": "code",
   "execution_count": null,
   "metadata": {},
   "outputs": [],
   "source": [
    "# generate dataset\n",
    "    # gen 90 deg\n",
    "    # rotate through all angles and save\n",
    "img45 = gen_angle(45)\n",
    "for i in rots:\n",
    "    fn = '45_'+str(i)+'.png'\n",
    "    _ = gen_img_for_dataset(img45,i)\n",
    "    imsave(pth45/fn,_)\n",
    "    \n",
    "img90 = gen_angle(90)\n",
    "for i in rots:\n",
    "    fn = '90_'+str(i)+'.png'\n",
    "    _ = gen_img_for_dataset(img90,i)\n",
    "    imsave(pth90/fn,_)\n",
    "    "
   ]
  },
  {
   "cell_type": "code",
   "execution_count": 231,
   "metadata": {},
   "outputs": [],
   "source": [
    "img15 = gen_angle(15)\n",
    "for i in rots:\n",
    "    fn = '15_'+str(i)+'.png'\n",
    "    _ = gen_img_for_dataset(img15,i)\n",
    "    imsave(pth15/fn,_)\n",
    "    \n",
    "img30 = gen_angle(30)\n",
    "for i in rots:\n",
    "    fn = '30_'+str(i)+'.png'\n",
    "    _ = gen_img_for_dataset(img30,i)\n",
    "    imsave(pth30/fn,_)\n",
    "    \n",
    "img60 = gen_angle(60)\n",
    "for i in rots:\n",
    "    fn = '60_'+str(i)+'.png'\n",
    "    _ = gen_img_for_dataset(img60,i)\n",
    "    imsave(pth60/fn,_)\n",
    "    "
   ]
  },
  {
   "cell_type": "code",
   "execution_count": 229,
   "metadata": {},
   "outputs": [],
   "source": [
    "img90 = gen_angle(90)\n",
    "for i in rots:\n",
    "    fn = '90_'+str(i)+'.png'\n",
    "    _ = gen_img_for_dataset(img90,i)\n",
    "    imsave(pth90/fn,_)"
   ]
  },
  {
   "cell_type": "code",
   "execution_count": 232,
   "metadata": {},
   "outputs": [],
   "source": [
    "_ = imread(pth90/'90_187.png')"
   ]
  },
  {
   "cell_type": "code",
   "execution_count": 233,
   "metadata": {},
   "outputs": [
    {
     "data": {
      "text/plain": [
       "(80, 80)"
      ]
     },
     "execution_count": 233,
     "metadata": {},
     "output_type": "execute_result"
    }
   ],
   "source": [
    "_.shape"
   ]
  },
  {
   "cell_type": "code",
   "execution_count": null,
   "metadata": {},
   "outputs": [],
   "source": []
  }
 ],
 "metadata": {
  "kernelspec": {
   "display_name": "Python 3",
   "language": "python",
   "name": "python3"
  },
  "language_info": {
   "codemirror_mode": {
    "name": "ipython",
    "version": 3
   },
   "file_extension": ".py",
   "mimetype": "text/x-python",
   "name": "python",
   "nbconvert_exporter": "python",
   "pygments_lexer": "ipython3",
   "version": "3.7.2"
  }
 },
 "nbformat": 4,
 "nbformat_minor": 2
}
